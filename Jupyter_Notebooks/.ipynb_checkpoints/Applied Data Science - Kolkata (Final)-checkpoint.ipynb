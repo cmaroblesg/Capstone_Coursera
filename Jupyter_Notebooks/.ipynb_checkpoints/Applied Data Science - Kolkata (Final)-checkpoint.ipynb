{
 "cells": [
  {
   "cell_type": "markdown",
   "metadata": {
    "collapsed": true
   },
   "source": [
    "# Applied DataScience - Finding Best Place for Foodies in Kolkata, India\n",
    "## Arghyadeep Ganguly\n",
    "### 20th JAN 2010"
   ]
  },
  {
   "cell_type": "markdown",
   "metadata": {},
   "source": [
    "#\n",
    "## Introduction/Business Problem\n"
   ]
  },
  {
   "cell_type": "markdown",
   "metadata": {},
   "source": [
    "In our citi of Kolkata(India), famously known as City Of Joy , there are new tourists come from different part of the world. With many historicaly significant places, there are areas in the city, which been considered as heaven for all food lovers. As kolkata is very large city and in a short stay, it could be very difficult to find these places. So I am planning to create this datascience project which will identify this food hot-spots. "
   ]
  },
  {
   "cell_type": "markdown",
   "metadata": {},
   "source": [
    "## A short description of the useful data"
   ]
  },
  {
   "cell_type": "markdown",
   "metadata": {},
   "source": [
    "There are no available dataset in csv/json/xls format which has enlisted all Kolkata negubourhoods with latitiude and lomgitude data. \n",
    "\n",
    "This data is only available in Wikipedia. Every Kolkata Corporation Wards have a separate Wiki pages and that contains geospatial data. I am planning to run a process that will hit every Wikipedia page (for each Kolkata ward) and will collect relevent information.\n",
    "\n",
    "An Example Kolkata Corporation Ward Page - \"https://en.wikipedia.org/wiki/Ward_No._1,_Kolkata_Municipal_Corporation\"\n",
    "\n",
    "Exmaple Data Set, That can be extracted from Wiki Pages \n",
    "\n",
    "Coordinates: 22.617889°N 88.370556°ECoordinates: 22.617889°N 88.370556°E\n",
    "Country :\t India\n",
    "State:\tWest Bengal\n",
    "City:\tKolkata\n",
    "Neighbourhood covered :\tCossipore\n",
    "Police station:\tCossipore\n",
    "Parliamentary constituency:\tKolkata Uttar\n",
    "Assembly constituency:\tKashipur-Belgachhia\n",
    "\n",
    "We will consider to pull Coordinates, Ward No and Assembly constituency( as Neighbourhood).\n",
    "\n",
    "Our next dataset would be Fousqaure venue data. After collecting nearby venues for available kolkata geographical points, those will be filtered to consider only categories which can be marked as eatries.\n",
    "\n",
    "After analyzing Foursquare Explore api data set which can be accessed with below API calls\n",
    "\n",
    "https://api.foursquare.com/v2/venues/explore?&client_id={}&client_secret={}&v={}&ll={},{}&radius={}&limit={}\n",
    "\n",
    "We have decided to consider below mentioned categories as Eatries \n",
    "\n",
    "'Chinese Restaurant', 'Indian Sweet Shop', 'Indian Restaurant', 'Mughlai Restaurant', 'Dumpling Restaurant', 'Café', 'Bengali Restaurant', 'Asian Restaurant', 'Tea Room', 'Breakfast Spot', 'South Indian Restaurant', 'Beer Garden', 'Italian Restaurant', 'Gastropub', 'Irish Pub', 'American Restaurant', 'Awadhi Restaurant', 'Kerala Restaurant', 'Falafel Restaurant', 'Food Truck', 'Burger Joint', 'Fried Chicken Joint', 'Snack Place',\n",
    "'Restaurant', 'Bakery', 'Coffee Shop', 'Theme Restaurant', 'Bistro', 'Fast Food Restaurant', 'Vegetarian / Vegan Restaurant', 'Food', 'Candy Store',\n",
    "'Dessert Shop', 'Pub', 'Mexican Restaurant', 'Tex-Mex Restaurant', 'Ice Cream Shop', 'Diner', 'Dhaba', 'Sandwich Place'."
   ]
  },
  {
   "cell_type": "code",
   "execution_count": null,
   "metadata": {},
   "outputs": [],
   "source": []
  }
 ],
 "metadata": {
  "kernelspec": {
   "display_name": "Python 3.6",
   "language": "python",
   "name": "python3"
  },
  "language_info": {
   "codemirror_mode": {
    "name": "ipython",
    "version": 3
   },
   "file_extension": ".py",
   "mimetype": "text/x-python",
   "name": "python",
   "nbconvert_exporter": "python",
   "pygments_lexer": "ipython3",
   "version": "3.6.8"
  }
 },
 "nbformat": 4,
 "nbformat_minor": 1
}
