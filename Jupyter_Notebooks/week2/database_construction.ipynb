{
 "cells": [
  {
   "cell_type": "code",
   "execution_count": 1,
   "metadata": {},
   "outputs": [
    {
     "data": {
      "text/plain": [
       "0"
      ]
     },
     "execution_count": 1,
     "metadata": {},
     "output_type": "execute_result"
    }
   ],
   "source": [
    "import pandas as pd\n",
    "import glob\n",
    "import os\n",
    "\n",
    "os.system('unzip ./files/dataSet_incidentes-viales-c5.zip')\n",
    "files=glob.glob(os.path.join('dataSet_incidentes-viales-c5','*.csv'))\n",
    "\n",
    "data = pd.DataFrame()\n",
    "for x in files:\n",
    "    info = pd.read_csv(x)\n",
    "    data = pd.concat([data,info])\n",
    "\n",
    "data.to_csv('./files/incidentes-viales-c5.csv',index=False,encoding='utf-8')\n",
    "\n",
    "os.system('rm -r ./dataSet_incidentes-viales-c5')"
   ]
  },
  {
   "cell_type": "code",
   "execution_count": null,
   "metadata": {},
   "outputs": [],
   "source": [
    "# Do not run this part\n",
    "import pandas as pd\n",
    "import os\n",
    "\n",
    "filePath = 'files/incidentes-viales-c5.csv'\n",
    "data = pd.read_csv(filePath)\n",
    "\n",
    "# Divide the file to be shared\n",
    "years = data['año_cierre'].drop_duplicates().tolist()\n",
    "for y in years:\n",
    "    anio = data.loc[(data['año_cierre'].isin([y]))]\n",
    "    anio.to_csv(os.path.join('files',str(y)+'_incidentes-viales-c5.csv'),index=False,encoding='utf-8')"
   ]
  }
 ],
 "metadata": {
  "kernelspec": {
   "display_name": "Python 3",
   "language": "python",
   "name": "python3"
  },
  "language_info": {
   "codemirror_mode": {
    "name": "ipython",
    "version": 3
   },
   "file_extension": ".py",
   "mimetype": "text/x-python",
   "name": "python",
   "nbconvert_exporter": "python",
   "pygments_lexer": "ipython3",
   "version": "3.7.7"
  }
 },
 "nbformat": 4,
 "nbformat_minor": 4
}
